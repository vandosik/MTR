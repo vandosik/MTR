{
 "cells": [
  {
   "cell_type": "code",
   "execution_count": 160,
   "metadata": {},
   "outputs": [],
   "source": [
    "# libs initialization\n",
    "import matplotlib.pyplot as plt\n",
    "import seaborn as sns\n",
    "import pandas as pd\n",
    "\n",
    "DATA_LEN = 65+14\n"
   ]
  },
  {
   "cell_type": "code",
   "execution_count": 161,
   "metadata": {},
   "outputs": [],
   "source": [
    "# Plotting a histogram and kernel density estimate\n",
    "# Draw unnormed histogramm\n",
    "def draw_histplot(data, bin_num = 20):\n",
    "    fig, axes = plt.subplots(1, 1, figsize=(10, 10))\n",
    "\n",
    "    sns.histplot(data, kde=True, bins=bin_num, stat='density', ax=axes, palette='Set3', color = 'blue')\n",
    "\n"
   ]
  },
  {
   "cell_type": "code",
   "execution_count": 162,
   "metadata": {},
   "outputs": [
    {
     "data": {
      "text/html": [
       "<div>\n",
       "<style scoped>\n",
       "    .dataframe tbody tr th:only-of-type {\n",
       "        vertical-align: middle;\n",
       "    }\n",
       "\n",
       "    .dataframe tbody tr th {\n",
       "        vertical-align: top;\n",
       "    }\n",
       "\n",
       "    .dataframe thead th {\n",
       "        text-align: right;\n",
       "    }\n",
       "</style>\n",
       "<table border=\"1\" class=\"dataframe\">\n",
       "  <thead>\n",
       "    <tr style=\"text-align: right;\">\n",
       "      <th></th>\n",
       "      <th>id</th>\n",
       "      <th>followers_count</th>\n",
       "      <th>wall_comments</th>\n",
       "      <th>comment_count</th>\n",
       "      <th>post_count</th>\n",
       "      <th>like_count</th>\n",
       "      <th>friends_count</th>\n",
       "      <th>group_count</th>\n",
       "      <th>posts_count</th>\n",
       "      <th>reposts_count</th>\n",
       "      <th>verified</th>\n",
       "      <th>videos_count</th>\n",
       "      <th>audios_count</th>\n",
       "      <th>photos_count</th>\n",
       "      <th>gifts_count</th>\n",
       "    </tr>\n",
       "  </thead>\n",
       "  <tbody>\n",
       "    <tr>\n",
       "      <th>0</th>\n",
       "      <td>1</td>\n",
       "      <td>1670</td>\n",
       "      <td>1</td>\n",
       "      <td>46</td>\n",
       "      <td>7220</td>\n",
       "      <td>96</td>\n",
       "      <td>1683</td>\n",
       "      <td>0</td>\n",
       "      <td>325</td>\n",
       "      <td>107</td>\n",
       "      <td>0</td>\n",
       "      <td>402</td>\n",
       "      <td>2188</td>\n",
       "      <td>10809</td>\n",
       "      <td>61</td>\n",
       "    </tr>\n",
       "    <tr>\n",
       "      <th>1</th>\n",
       "      <td>2</td>\n",
       "      <td>950</td>\n",
       "      <td>1</td>\n",
       "      <td>1</td>\n",
       "      <td>600</td>\n",
       "      <td>18</td>\n",
       "      <td>687</td>\n",
       "      <td>280</td>\n",
       "      <td>320</td>\n",
       "      <td>58</td>\n",
       "      <td>0</td>\n",
       "      <td>205</td>\n",
       "      <td>386</td>\n",
       "      <td>606</td>\n",
       "      <td>0</td>\n",
       "    </tr>\n",
       "    <tr>\n",
       "      <th>2</th>\n",
       "      <td>3</td>\n",
       "      <td>86</td>\n",
       "      <td>1</td>\n",
       "      <td>23</td>\n",
       "      <td>600</td>\n",
       "      <td>338</td>\n",
       "      <td>291</td>\n",
       "      <td>50</td>\n",
       "      <td>23</td>\n",
       "      <td>577</td>\n",
       "      <td>0</td>\n",
       "      <td>5</td>\n",
       "      <td>147</td>\n",
       "      <td>52</td>\n",
       "      <td>8</td>\n",
       "    </tr>\n",
       "    <tr>\n",
       "      <th>3</th>\n",
       "      <td>4</td>\n",
       "      <td>28</td>\n",
       "      <td>1</td>\n",
       "      <td>3</td>\n",
       "      <td>3408</td>\n",
       "      <td>50</td>\n",
       "      <td>192</td>\n",
       "      <td>0</td>\n",
       "      <td>532</td>\n",
       "      <td>472</td>\n",
       "      <td>0</td>\n",
       "      <td>311</td>\n",
       "      <td>392</td>\n",
       "      <td>11654</td>\n",
       "      <td>0</td>\n",
       "    </tr>\n",
       "    <tr>\n",
       "      <th>4</th>\n",
       "      <td>5</td>\n",
       "      <td>367</td>\n",
       "      <td>1</td>\n",
       "      <td>32</td>\n",
       "      <td>702</td>\n",
       "      <td>846</td>\n",
       "      <td>179</td>\n",
       "      <td>216</td>\n",
       "      <td>26</td>\n",
       "      <td>408</td>\n",
       "      <td>0</td>\n",
       "      <td>580</td>\n",
       "      <td>481</td>\n",
       "      <td>89</td>\n",
       "      <td>52</td>\n",
       "    </tr>\n",
       "    <tr>\n",
       "      <th>5</th>\n",
       "      <td>6</td>\n",
       "      <td>156</td>\n",
       "      <td>1</td>\n",
       "      <td>9</td>\n",
       "      <td>799</td>\n",
       "      <td>239</td>\n",
       "      <td>138</td>\n",
       "      <td>94</td>\n",
       "      <td>31</td>\n",
       "      <td>367</td>\n",
       "      <td>0</td>\n",
       "      <td>36</td>\n",
       "      <td>0</td>\n",
       "      <td>242</td>\n",
       "      <td>0</td>\n",
       "    </tr>\n",
       "    <tr>\n",
       "      <th>6</th>\n",
       "      <td>7</td>\n",
       "      <td>2</td>\n",
       "      <td>1</td>\n",
       "      <td>595</td>\n",
       "      <td>148</td>\n",
       "      <td>104</td>\n",
       "      <td>31</td>\n",
       "      <td>0</td>\n",
       "      <td>1</td>\n",
       "      <td>0</td>\n",
       "      <td>0</td>\n",
       "      <td>51</td>\n",
       "      <td>0</td>\n",
       "      <td>29</td>\n",
       "      <td>2</td>\n",
       "    </tr>\n",
       "    <tr>\n",
       "      <th>7</th>\n",
       "      <td>8</td>\n",
       "      <td>104</td>\n",
       "      <td>1</td>\n",
       "      <td>1387</td>\n",
       "      <td>400</td>\n",
       "      <td>91</td>\n",
       "      <td>148</td>\n",
       "      <td>692</td>\n",
       "      <td>45</td>\n",
       "      <td>181</td>\n",
       "      <td>0</td>\n",
       "      <td>111</td>\n",
       "      <td>195</td>\n",
       "      <td>538</td>\n",
       "      <td>0</td>\n",
       "    </tr>\n",
       "    <tr>\n",
       "      <th>8</th>\n",
       "      <td>9</td>\n",
       "      <td>44</td>\n",
       "      <td>1</td>\n",
       "      <td>568</td>\n",
       "      <td>300</td>\n",
       "      <td>353</td>\n",
       "      <td>129</td>\n",
       "      <td>84</td>\n",
       "      <td>0</td>\n",
       "      <td>79</td>\n",
       "      <td>0</td>\n",
       "      <td>17</td>\n",
       "      <td>67</td>\n",
       "      <td>194</td>\n",
       "      <td>0</td>\n",
       "    </tr>\n",
       "    <tr>\n",
       "      <th>9</th>\n",
       "      <td>10</td>\n",
       "      <td>3941</td>\n",
       "      <td>1</td>\n",
       "      <td>179</td>\n",
       "      <td>900</td>\n",
       "      <td>767</td>\n",
       "      <td>92</td>\n",
       "      <td>9624</td>\n",
       "      <td>17</td>\n",
       "      <td>393</td>\n",
       "      <td>0</td>\n",
       "      <td>805</td>\n",
       "      <td>860</td>\n",
       "      <td>1094</td>\n",
       "      <td>47</td>\n",
       "    </tr>\n",
       "  </tbody>\n",
       "</table>\n",
       "</div>"
      ],
      "text/plain": [
       "   id  followers_count  wall_comments  comment_count  post_count  like_count  \\\n",
       "0   1             1670              1             46        7220          96   \n",
       "1   2              950              1              1         600          18   \n",
       "2   3               86              1             23         600         338   \n",
       "3   4               28              1              3        3408          50   \n",
       "4   5              367              1             32         702         846   \n",
       "5   6              156              1              9         799         239   \n",
       "6   7                2              1            595         148         104   \n",
       "7   8              104              1           1387         400          91   \n",
       "8   9               44              1            568         300         353   \n",
       "9  10             3941              1            179         900         767   \n",
       "\n",
       "   friends_count  group_count  posts_count  reposts_count  verified  \\\n",
       "0           1683            0          325            107         0   \n",
       "1            687          280          320             58         0   \n",
       "2            291           50           23            577         0   \n",
       "3            192            0          532            472         0   \n",
       "4            179          216           26            408         0   \n",
       "5            138           94           31            367         0   \n",
       "6             31            0            1              0         0   \n",
       "7            148          692           45            181         0   \n",
       "8            129           84            0             79         0   \n",
       "9             92         9624           17            393         0   \n",
       "\n",
       "   videos_count  audios_count  photos_count  gifts_count  \n",
       "0           402          2188         10809           61  \n",
       "1           205           386           606            0  \n",
       "2             5           147            52            8  \n",
       "3           311           392         11654            0  \n",
       "4           580           481            89           52  \n",
       "5            36             0           242            0  \n",
       "6            51             0            29            2  \n",
       "7           111           195           538            0  \n",
       "8            17            67           194            0  \n",
       "9           805           860          1094           47  "
      ]
     },
     "execution_count": 162,
     "metadata": {},
     "output_type": "execute_result"
    }
   ],
   "source": [
    "# Dataset initialization\n",
    "path_to_file = 'gender_task_set_open.csv'\n",
    "source_df = pd.read_csv(path_to_file, engine='python')\n",
    "\n",
    "COL_NAME = \"followers_count\"\n",
    "\n",
    "source_df.head(10)\n",
    "\n"
   ]
  },
  {
   "cell_type": "code",
   "execution_count": 163,
   "metadata": {},
   "outputs": [],
   "source": [
    "# Drop outliers by quantiles\n",
    "\n",
    "up_quant = 0.995\n",
    "down_quant = 0.015\n",
    "\n",
    "q_low = source_df[COL_NAME].quantile(down_quant)\n",
    "q_hi  = source_df[COL_NAME].quantile(up_quant)\n",
    "\n",
    "source_df = source_df[(source_df[COL_NAME] < q_hi) & (source_df[COL_NAME] > q_low)]"
   ]
  },
  {
   "cell_type": "code",
   "execution_count": 164,
   "metadata": {},
   "outputs": [
    {
     "data": {
      "image/png": "[encoded data removed]",
      "text/plain": [
       "<Figure size 720x720 with 1 Axes>"
      ]
     },
     "metadata": {
      "needs_background": "light"
     },
     "output_type": "display_data"
    }
   ],
   "source": [
    "# Create our sample\n",
    "# sampled_df = source_df.sample(n = DATA_LEN, random_state=1)\n",
    "sampled_df = source_df.sample(n = DATA_LEN)\n",
    "# show new dataset\n",
    "base_sample = sampled_df[COL_NAME]\n",
    "draw_histplot(base_sample)"
   ]
  },
  {
   "cell_type": "code",
   "execution_count": 165,
   "metadata": {},
   "outputs": [
    {
     "name": "stderr",
     "output_type": "stream",
     "text": [
      "C:\\Users\\vando\\AppData\\Local\\Programs\\Python\\Python39\\lib\\site-packages\\scipy\\stats\\_continuous_distns.py:5320: RuntimeWarning: divide by zero encountered in true_divide\n",
      "  return c**2 / (c**2 - n**2)\n",
      "C:\\Users\\vando\\AppData\\Local\\Programs\\Python\\Python39\\lib\\site-packages\\scipy\\stats\\_distn_infrastructure.py:2606: RuntimeWarning: invalid value encountered in double_scalars\n",
      "  Lhat = muhat - Shat*mu\n",
      "C:\\Users\\vando\\AppData\\Local\\Programs\\Python\\Python39\\lib\\site-packages\\scipy\\stats\\_continuous_distns.py:639: RuntimeWarning: invalid value encountered in sqrt\n",
      "  sk = 2*(b-a)*np.sqrt(a + b + 1) / (a + b + 2) / np.sqrt(a*b)\n",
      "C:\\Users\\vando\\AppData\\Local\\Programs\\Python\\Python39\\lib\\site-packages\\scipy\\optimize\\minpack.py:175: RuntimeWarning: The iteration is not making good progress, as measured by the \n",
      "  improvement from the last ten iterations.\n",
      "  warnings.warn(msg, RuntimeWarning)\n",
      "C:\\Users\\vando\\AppData\\Local\\Programs\\Python\\Python39\\lib\\site-packages\\scipy\\stats\\_continuous_distns.py:5311: RuntimeWarning: divide by zero encountered in power\n",
      "  return cd2*x**(c-1)\n"
     ]
    },
    {
     "data": {
      "image/png": "[encoded data removed]",
      "text/plain": [
       "<Figure size 720x720 with 1 Axes>"
      ]
     },
     "metadata": {
      "needs_background": "light"
     },
     "output_type": "display_data"
    }
   ],
   "source": [
    "# Generate synthetic sample\n",
    "from sdv.tabular import GaussianCopula\n",
    "model = GaussianCopula()\n",
    "\n",
    "model.fit(sampled_df)\n",
    "\n",
    "gen_sample = model.sample(DATA_LEN)\n",
    "gen_sample = gen_sample[COL_NAME]\n",
    "\n",
    "\n",
    "\n",
    "draw_histplot(gen_sample)"
   ]
  },
  {
   "cell_type": "code",
   "execution_count": 166,
   "metadata": {},
   "outputs": [
    {
     "data": {
      "text/plain": [
       "[<matplotlib.lines.Line2D at 0x17cd112ab20>]"
      ]
     },
     "execution_count": 166,
     "metadata": {},
     "output_type": "execute_result"
    },
    {
     "data": {
      "image/png": "[encoded data removed]",
      "text/plain": [
       "<Figure size 720x720 with 1 Axes>"
      ]
     },
     "metadata": {
      "needs_background": "light"
     },
     "output_type": "display_data"
    }
   ],
   "source": [
    "# Plotting a quantile biplot for empirical and theoretical (lognormal) distribution\n",
    "\n",
    "sorted_base = base_sample.sort_values()\n",
    "sorted_gen = gen_sample.sort_values()\n",
    "\n",
    "max_val = max(max(sorted_base), max(sorted_gen))\n",
    "\n",
    "plt.figure(figsize=(10,10))\n",
    "plt.scatter(sorted_base, sorted_gen, color = \"blue\")\n",
    "plt.plot([0, max_val], [0, max_val], color=\"k\", ls=\"--\")"
   ]
  }
 ],
 "metadata": {
  "kernelspec": {
   "display_name": "Python 3.8.8 64-bit",
   "metadata": {
    "interpreter": {
     "hash": "0110e3ad3d2995649b9eed0505b86961f21d80e4cfa55b9dc2096312fa84aa23"
    }
   },
   "name": "python3"
  },
  "language_info": {
   "codemirror_mode": {
    "name": "ipython",
    "version": 3
   },
   "file_extension": ".py",
   "mimetype": "text/x-python",
   "name": "python",
   "nbconvert_exporter": "python",
   "pygments_lexer": "ipython3",
   "version": "3.9.0"
  }
 },
 "nbformat": 4,
 "nbformat_minor": 2
}
